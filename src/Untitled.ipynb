{
 "cells": [
  {
   "cell_type": "code",
   "execution_count": 81,
   "metadata": {},
   "outputs": [
    {
     "name": "stdout",
     "output_type": "stream",
     "text": [
      "Enter month (as an integer) and year: \n"
     ]
    },
    {
     "ename": "ValueError",
     "evalue": "invalid literal for int() with base 10: ''",
     "output_type": "error",
     "traceback": [
      "\u001b[0;31m---------------------------------------------------------------------------\u001b[0m",
      "\u001b[0;31mValueError\u001b[0m                                Traceback (most recent call last)",
      "\u001b[0;32m<ipython-input-81-8e563bbf3485>\u001b[0m in \u001b[0;36m<module>\u001b[0;34m\u001b[0m\n\u001b[1;32m     34\u001b[0m \u001b[0;31m# If one argument only, assume it's the month and print that month for this year\u001b[0m\u001b[0;34m\u001b[0m\u001b[0;34m\u001b[0m\u001b[0;34m\u001b[0m\u001b[0m\n\u001b[1;32m     35\u001b[0m \u001b[0;32melif\u001b[0m \u001b[0mlen\u001b[0m\u001b[0;34m(\u001b[0m\u001b[0mtext\u001b[0m\u001b[0;34m)\u001b[0m \u001b[0;34m==\u001b[0m \u001b[0;36m1\u001b[0m\u001b[0;34m:\u001b[0m\u001b[0;34m\u001b[0m\u001b[0;34m\u001b[0m\u001b[0m\n\u001b[0;32m---> 36\u001b[0;31m     \u001b[0mmonth\u001b[0m \u001b[0;34m=\u001b[0m \u001b[0mint\u001b[0m\u001b[0;34m(\u001b[0m\u001b[0mtext\u001b[0m\u001b[0;34m[\u001b[0m\u001b[0;36m0\u001b[0m\u001b[0;34m]\u001b[0m\u001b[0;34m)\u001b[0m\u001b[0;34m\u001b[0m\u001b[0;34m\u001b[0m\u001b[0m\n\u001b[0m\u001b[1;32m     37\u001b[0m     \u001b[0mprint\u001b[0m\u001b[0;34m(\u001b[0m\u001b[0mcalendar\u001b[0m\u001b[0;34m.\u001b[0m\u001b[0mmonth\u001b[0m\u001b[0;34m(\u001b[0m\u001b[0mtoday\u001b[0m\u001b[0;34m.\u001b[0m\u001b[0myear\u001b[0m\u001b[0;34m,\u001b[0m \u001b[0mmonth\u001b[0m\u001b[0;34m)\u001b[0m\u001b[0;34m)\u001b[0m\u001b[0;34m\u001b[0m\u001b[0;34m\u001b[0m\u001b[0m\n\u001b[1;32m     38\u001b[0m \u001b[0;34m\u001b[0m\u001b[0m\n",
      "\u001b[0;31mValueError\u001b[0m: invalid literal for int() with base 10: ''"
     ]
    }
   ],
   "source": [
    "\"\"\"\n",
    "The Python standard library's 'calendar' module allows you to \n",
    "render a calendar to your terminal.\n",
    "https://docs.python.org/3.6/library/calendar.html\n",
    "\n",
    "Write a program that accepts user input of the form\n",
    "  `calendar.py month [year]`\n",
    "and does the following:\n",
    " - If the user doesn't specify any input, your program should \n",
    "   print the calendar for the current month. The 'datetime'\n",
    "   module may be helpful for this.\n",
    " - If the user specifies one argument, assume they passed in a\n",
    "   month and render the calendar for that month of the current year.\n",
    " - If the user specifies two arguments, assume they passed in\n",
    "   both the month and the year. Render the calendar for that \n",
    "   month and year.\n",
    " - Otherwise, print a usage statement to the terminal indicating\n",
    "   the format that your program expects arguments to be given.\n",
    "   Then exit the program.\n",
    "\"\"\"\n",
    "\n",
    "import sys\n",
    "import calendar\n",
    "from datetime import datetime\n",
    "import argparse\n",
    "\n",
    "\n",
    "parser = argparse.ArgumentParser(description='Generates calendars from dates.')\n",
    "\n",
    "parser.add_argument('--month', metavar='Month', type=int, nargs=1,\n",
    "                    help='An integer corresponding to the month',\n",
    "                    default = datetime.today.month)\n",
    "parser.add_argument('--year', metavar='Year', type=int, nargs=1,\n",
    "                    help='An integer corresponding to the year',\n",
    "                    default = datetime.today.year, required=False)\n",
    "\n",
    "args = parser.parse_args()\n",
    "print args.accumulate(args.integers)\n",
    "\n",
    "\n",
    "\n",
    "\n",
    "text = input(\"Enter month (as an integer) and year: \").split(' ')\n",
    "today = datetime.today()\n",
    "\n",
    "# If no user input, print calendar for current month\n",
    "if len(text) == 0:\n",
    "    print(calendar.month(today.year, today.month))\n",
    "\n",
    "# If one argument only, assume it's the month and print that month for this year\n",
    "elif len(text) == 1:\n",
    "    month = int(text[0])\n",
    "    print(calendar.month(today.year, month))\n",
    "\n",
    "elif len(text) == 2:\n",
    "    month = int(text[0])\n",
    "    year = int(text[1])\n",
    "    print(calendar.month(year, month))\n",
    "\n",
    "else:\n",
    "    print('\\nThe program expects month and year as integers, separated by spaces. Example: \"5 2001\". Try again.')"
   ]
  },
  {
   "cell_type": "code",
   "execution_count": null,
   "metadata": {},
   "outputs": [],
   "source": []
  }
 ],
 "metadata": {
  "kernelspec": {
   "display_name": "Python 3",
   "language": "python",
   "name": "python3"
  },
  "language_info": {
   "codemirror_mode": {
    "name": "ipython",
    "version": 3
   },
   "file_extension": ".py",
   "mimetype": "text/x-python",
   "name": "python",
   "nbconvert_exporter": "python",
   "pygments_lexer": "ipython3",
   "version": "3.6.8"
  }
 },
 "nbformat": 4,
 "nbformat_minor": 2
}
