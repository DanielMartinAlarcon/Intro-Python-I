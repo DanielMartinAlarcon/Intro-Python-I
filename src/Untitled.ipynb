{
 "cells": [
  {
   "cell_type": "code",
   "execution_count": 28,
   "metadata": {},
   "outputs": [
    {
     "name": "stdout",
     "output_type": "stream",
     "text": [
      "\n",
      "\n",
      "-----foo.txt:\n",
      "\n",
      "Do you bite your thumb at us, sir?\n",
      "\n",
      "I do bite my thumb, sir.\n",
      "\n",
      "Do you bite your thumb at us, sir?\n",
      "\n",
      "No, sir. I do not bite my thumb at you, sir, but I bite my thumb, sir.\n",
      "\n",
      "Do you quarrel, sir?\n",
      "\n",
      "Quarrel, sir? No, sir.\n",
      "\n",
      "\n",
      "-------bar.txt:\n",
      "\n",
      "One two one two\n",
      "\n",
      "And through and through\n",
      "\n",
      "His vorpal blade went snicker-snack!\n",
      "\n"
     ]
    }
   ],
   "source": [
    "\"\"\"\n",
    "The Python standard library's 'calendar' module allows you to \n",
    "render a calendar to your terminal.\n",
    "https://docs.python.org/3.6/library/calendar.html\n",
    "\n",
    "Write a program that accepts user input of the form\n",
    "  `calendar.py month [year]`\n",
    "and does the following:\n",
    " - If the user doesn't specify any input, your program should \n",
    "   print the calendar for the current month. The 'datetime'\n",
    "   module may be helpful for this.\n",
    " - If the user specifies one argument, assume they passed in a\n",
    "   month and render the calendar for that month of the current year.\n",
    " - If the user specifies two arguments, assume they passed in\n",
    "   both the month and the year. Render the calendar for that \n",
    "   month and year.\n",
    " - Otherwise, print a usage statement to the terminal indicating\n",
    "   the format that your program expects arguments to be given.\n",
    "   Then exit the program.\n",
    "\"\"\"\n",
    "\n",
    "import sys\n",
    "import calendar\n",
    "from datetime import datetime"
   ]
  },
  {
   "cell_type": "code",
   "execution_count": null,
   "metadata": {},
   "outputs": [],
   "source": []
  }
 ],
 "metadata": {
  "kernelspec": {
   "display_name": "Python 3",
   "language": "python",
   "name": "python3"
  },
  "language_info": {
   "codemirror_mode": {
    "name": "ipython",
    "version": 3
   },
   "file_extension": ".py",
   "mimetype": "text/x-python",
   "name": "python",
   "nbconvert_exporter": "python",
   "pygments_lexer": "ipython3",
   "version": "3.6.8"
  }
 },
 "nbformat": 4,
 "nbformat_minor": 2
}
